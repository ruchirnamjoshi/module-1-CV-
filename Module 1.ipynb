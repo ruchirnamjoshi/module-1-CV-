{
 "cells": [
  {
   "cell_type": "code",
   "execution_count": 261,
   "id": "2c243924",
   "metadata": {},
   "outputs": [],
   "source": [
    "import glob\n",
    "import cv2\n",
    "import numpy as np\n"
   ]
  },
  {
   "cell_type": "code",
   "execution_count": 308,
   "id": "06cc89c9",
   "metadata": {},
   "outputs": [],
   "source": [
    "# Define the size of the calibration pattern (chessboard)\n",
    "chessboard_size = (7, 5)  \n",
    "\n",
    "# Define the actual dimensions of the square in millimeters\n",
    "square_size_mm = 27  \n"
   ]
  },
  {
   "cell_type": "code",
   "execution_count": 309,
   "id": "44627d88",
   "metadata": {},
   "outputs": [],
   "source": [
    "objp = np.zeros((chessboard_size[0] * chessboard_size[1], 3), np.float32)\n",
    "objp[:, :2] = np.mgrid[0:chessboard_size[0], 0:chessboard_size[1]].T.reshape(-1, 2) * square_size_mm\n"
   ]
  },
  {
   "cell_type": "code",
   "execution_count": 310,
   "id": "f74b4f7e",
   "metadata": {},
   "outputs": [],
   "source": [
    "# Arrays to store object points and image points from all the images\n",
    "obj_points = []  # 3D points in real world space\n",
    "img_points = []  # 2D points in image plane\n"
   ]
  },
  {
   "cell_type": "code",
   "execution_count": 311,
   "id": "3f6923da",
   "metadata": {},
   "outputs": [],
   "source": [
    "# Find images in the calibration image directory\n",
    "calibration_images = glob.glob('captured_images/*.jpg')\n"
   ]
  },
  {
   "cell_type": "code",
   "execution_count": 312,
   "id": "6413546a",
   "metadata": {},
   "outputs": [],
   "source": [
    "# Loop through each calibration image\n",
    "for image_path in calibration_images:\n",
    "    # Load the image\n",
    "    img = cv2.imread(image_path)\n",
    "    gray = cv2.cvtColor(img, cv2.COLOR_BGR2GRAY)\n",
    "\n",
    "    # Find the chessboard corners\n",
    "    ret, corners = cv2.findChessboardCorners(gray, chessboard_size, None)\n",
    "\n",
    "    # If found, add object points, image points (after refining them)\n",
    "    if ret == True:\n",
    "        obj_points.append(objp)\n",
    "        corners_refined = cv2.cornerSubPix(gray, corners, (11, 11), (-1, -1), criteria=(cv2.TERM_CRITERIA_EPS + cv2.TERM_CRITERIA_MAX_ITER, 30, 0.001))\n",
    "        img_points.append(corners_refined)\n",
    "\n",
    "        # Draw and display the corners\n",
    "        img = cv2.drawChessboardCorners(img, chessboard_size, corners_refined, ret)\n",
    "        cv2.imshow('Chessboard Corners', img)\n",
    "        cv2.waitKey(500)  # Show each image for 0.5 seconds\n",
    "        cv2.destroyAllWindows()\n"
   ]
  },
  {
   "cell_type": "code",
   "execution_count": 313,
   "id": "3dc33cec",
   "metadata": {},
   "outputs": [],
   "source": [
    "# Perform camera calibration\n",
    "ret, mtx, dist, rvecs, tvecs = cv2.calibrateCamera(obj_points, img_points, gray.shape[::-1], None, None)\n",
    "\n",
    "\n"
   ]
  },
  {
   "cell_type": "code",
   "execution_count": 320,
   "id": "816eb624",
   "metadata": {},
   "outputs": [],
   "source": [
    "for fname in calibration_images:\n",
    "        img = cv2.imread(fname)\n",
    "        h,  w = img.shape[:2]\n",
    "        newcameramtx, roi = cv2.getOptimalNewCameraMatrix(mtx, dist, (w,h), 1, (w,h))\n",
    "\n",
    "        # undistort\n",
    "        dst = cv2.undistort(img, mtx, dist, None, newcameramtx)\n",
    "\n",
    "        # crop the image\n",
    "        x, y, w, h = roi\n",
    "        dst = dst[y:y+h, x:x+w]\n",
    "        \n",
    "        # save new image into file\n",
    "        #cv2.imwrite(f\"{fname.split('.')[0]}_result.png\", dst)"
   ]
  },
  {
   "cell_type": "code",
   "execution_count": 322,
   "id": "5ba50dc3",
   "metadata": {},
   "outputs": [
    {
     "data": {
      "text/plain": [
       "(6, 23, 1872, 1015)"
      ]
     },
     "execution_count": 322,
     "metadata": {},
     "output_type": "execute_result"
    }
   ],
   "source": [
    "roi"
   ]
  },
  {
   "cell_type": "code",
   "execution_count": 323,
   "id": "b4a01311",
   "metadata": {},
   "outputs": [
    {
     "name": "stdout",
     "output_type": "stream",
     "text": [
      "Calibration Matrix (Intrinsic Parameters):\n",
      " [[2.02100117e+03 0.00000000e+00 9.28608280e+02]\n",
      " [0.00000000e+00 2.04959679e+03 4.87634015e+02]\n",
      " [0.00000000e+00 0.00000000e+00 1.00000000e+00]]\n"
     ]
    }
   ],
   "source": [
    "# Print calibration matrix\n",
    "print(\"Calibration Matrix (Intrinsic Parameters):\\n\", mtx)"
   ]
  },
  {
   "cell_type": "code",
   "execution_count": 269,
   "id": "f1e7f54c",
   "metadata": {},
   "outputs": [],
   "source": [
    "# Select one image for calibration\n",
    "img_path = 'captured_images/image_2.jpg'\n",
    "img = cv2.imread(img_path)\n",
    "gray = cv2.cvtColor(img, cv2.COLOR_BGR2GRAY)"
   ]
  },
  {
   "cell_type": "code",
   "execution_count": 270,
   "id": "fa635c96",
   "metadata": {},
   "outputs": [],
   "source": [
    "# Define the chessboard size\n",
    "chessboard_size = (7, 5)  # Change according to your chessboard"
   ]
  },
  {
   "cell_type": "code",
   "execution_count": 271,
   "id": "fd23aa77",
   "metadata": {},
   "outputs": [],
   "source": [
    "# Find chessboard corners\n",
    "ret, corners = cv2.findChessboardCorners(gray, chessboard_size, None)"
   ]
  },
  {
   "cell_type": "code",
   "execution_count": 272,
   "id": "4b35449f",
   "metadata": {},
   "outputs": [
    {
     "name": "stdout",
     "output_type": "stream",
     "text": [
      " chalo ye to hua \n",
      "  ye to hona hi tha \n",
      " bhot kuch hogya \n",
      " bss hone hi wala hai\n",
      "Intrinsic Matrix:\n",
      "[[2.44001303e+03 0.00000000e+00 8.65801079e+02]\n",
      " [0.00000000e+00 2.60315904e+03 6.79341433e+02]\n",
      " [0.00000000e+00 0.00000000e+00 1.00000000e+00]]\n",
      "---------------------------------------------------------------------\n",
      "Extrinsic Rotation Matrix:\n",
      "[[ 0.99764599  0.05910176  0.03477718]\n",
      " [-0.06819471  0.90837452  0.41255934]\n",
      " [-0.00720772 -0.41395979  0.91026663]]\n",
      "---------------------------------------------------------------------\n",
      "Extrinsic Translation Vector:\n",
      "[[ -44.93384735]\n",
      " [-113.31685744]\n",
      " [ 525.20444887]]\n",
      "---------------------------------------------------------------------\n",
      "Rotation angles (degrees) around x, y, z axes:\n",
      "[[57.16238976 -3.9073708   0.        ]\n",
      " [ 3.9073708  57.16238976  0.        ]\n",
      " [ 0.          0.         57.29577951]]\n"
     ]
    }
   ],
   "source": [
    "if ret:\n",
    "    # Draw and display the corners\n",
    "    cv2.drawChessboardCorners(img, chessboard_size, corners, ret)\n",
    "    cv2.imshow('Corners', img)\n",
    "    cv2.waitKey(500)\n",
    "    cv2.destroyAllWindows()\n",
    "    \n",
    "    print(\" chalo ye to hua \")\n",
    "\n",
    "    # Define 3D world points assuming a known square size\n",
    "    square_size = 27.0  # Change according to your chessboard\n",
    "    obj_points = np.zeros((np.prod(chessboard_size), 3), dtype=np.float32)\n",
    "    obj_points[:, :2] = np.mgrid[0:chessboard_size[0], 0:chessboard_size[1]].T.reshape(-1, 2) * square_size\n",
    "    print(\"  ye to hona hi tha \")\n",
    "    # Convert corners to float32\n",
    "    corners = corners.astype(np.float32)\n",
    "\n",
    "    ret, mtx, dist, rvecs, tvecs = cv2.calibrateCamera([obj_points], [corners], gray.shape[::-1], None, None)\n",
    "\n",
    "    # Compute rotation matrix and angles\n",
    "    print(\" bhot kuch hogya \")\n",
    "    rmat, _ = cv2.Rodrigues(rvecs[0])\n",
    "    print(\" bss hone hi wala hai\")\n",
    "    _, _, _, _, _, angles, _ = cv2.decomposeProjectionMatrix(np.hstack((rmat, tvecs[0])))\n",
    "\n",
    "    print(\"Intrinsic Matrix:\")\n",
    "    print(mtx)\n",
    "    print(\"---------------------------------------------------------------------\")\n",
    "    print(\"Extrinsic Rotation Matrix:\")\n",
    "    print(rmat)\n",
    "    print(\"---------------------------------------------------------------------\")\n",
    "    print(\"Extrinsic Translation Vector:\")\n",
    "    print(tvecs[0])\n",
    "    print(\"---------------------------------------------------------------------\")\n",
    "    print(\"Rotation angles (degrees) around x, y, z axes:\")\n",
    "    print(np.degrees(angles))\n",
    "\n",
    "else:\n",
    "    print(\"Chessboard corners not found.\")\n"
   ]
  },
  {
   "cell_type": "code",
   "execution_count": 273,
   "id": "0a91602c",
   "metadata": {},
   "outputs": [],
   "source": [
    "fx = mtx[0, 0]  # Focal length along the x-axis\n",
    "fy = mtx[1, 1]  # Focal length along the y-axis\n",
    "cx = mtx[0, 2]\n",
    "cy = mtx[1, 2]\n"
   ]
  },
  {
   "cell_type": "code",
   "execution_count": 274,
   "id": "f26d2249",
   "metadata": {},
   "outputs": [
    {
     "data": {
      "text/plain": [
       "2521.586031352658"
      ]
     },
     "execution_count": 274,
     "metadata": {},
     "output_type": "execute_result"
    }
   ],
   "source": [
    "(fx+fy) / 2"
   ]
  },
  {
   "cell_type": "code",
   "execution_count": 275,
   "id": "49cb83ab",
   "metadata": {},
   "outputs": [
    {
     "data": {
      "text/plain": [
       "865.8010789965606"
      ]
     },
     "execution_count": 275,
     "metadata": {},
     "output_type": "execute_result"
    }
   ],
   "source": [
    "cx"
   ]
  },
  {
   "cell_type": "code",
   "execution_count": 276,
   "id": "55ea9c1d",
   "metadata": {},
   "outputs": [
    {
     "data": {
      "text/plain": [
       "679.341433383635"
      ]
     },
     "execution_count": 276,
     "metadata": {},
     "output_type": "execute_result"
    }
   ],
   "source": [
    "cy"
   ]
  },
  {
   "cell_type": "code",
   "execution_count": 277,
   "id": "045cb34c",
   "metadata": {},
   "outputs": [],
   "source": [
    "cv2.destroyAllWindows()"
   ]
  },
  {
   "cell_type": "code",
   "execution_count": 278,
   "id": "824adf64",
   "metadata": {},
   "outputs": [
    {
     "name": "stdout",
     "output_type": "stream",
     "text": [
      "Rotation Angles (degrees) around X, Y, Z axes: -24.454503696489343 0.4129754591803978 -3.910405866182276\n"
     ]
    }
   ],
   "source": [
    "import numpy as np\n",
    "\n",
    "def rotation_matrix_to_euler_angles(rotation_matrix):\n",
    "    # Extract rotation angles from rotation matrix\n",
    "    # Note: Assumes rotation_matrix is a valid 3x3 rotation matrix\n",
    "    \n",
    "    # Calculate theta_x (rotation angle around X-axis)\n",
    "    theta_x = np.arctan2(rotation_matrix[2, 1], rotation_matrix[2, 2])\n",
    "    \n",
    "    # Calculate theta_y (rotation angle around Y-axis)\n",
    "    theta_y = np.arctan2(-rotation_matrix[2, 0], np.sqrt(rotation_matrix[2, 1]**2 + rotation_matrix[2, 2]**2))\n",
    "    \n",
    "    # Calculate theta_z (rotation angle around Z-axis)\n",
    "    theta_z = np.arctan2(rotation_matrix[1, 0], rotation_matrix[0, 0])\n",
    "    \n",
    "    # Convert angles from radians to degrees\n",
    "    theta_x_deg = np.degrees(theta_x)\n",
    "    theta_y_deg = np.degrees(theta_y)\n",
    "    theta_z_deg = np.degrees(theta_z)\n",
    "    \n",
    "    return theta_x_deg, theta_y_deg, theta_z_deg\n",
    "\n",
    "# Example rotation matrix\n",
    "rotation_matrix = rmat\n",
    "\n",
    "# Calculate rotation angles\n",
    "theta_x_deg, theta_y_deg, theta_z_deg = rotation_matrix_to_euler_angles(rotation_matrix)\n",
    "\n",
    "# Print the rotation angles\n",
    "print(\"Rotation Angles (degrees) around X, Y, Z axes:\", theta_x_deg, theta_y_deg, theta_z_deg)\n"
   ]
  },
  {
   "cell_type": "code",
   "execution_count": 279,
   "id": "efebf536",
   "metadata": {},
   "outputs": [],
   "source": [
    "import cv2\n",
    "import numpy as np\n"
   ]
  },
  {
   "cell_type": "code",
   "execution_count": 280,
   "id": "27789fab",
   "metadata": {},
   "outputs": [],
   "source": [
    "import cv2\n",
    "import numpy as np\n",
    "\n",
    "# Function to compute object dimensions using perspective projection equations\n",
    "def compute_object_dimensions(image_width, image_height, object_width_in_pixels, object_height_in_pixels, distance_to_object):\n",
    "    # Define the focal length (in pixels) - approximate value\n",
    "    focal_length = (image_width + image_height) / 2\n",
    "    \n",
    "    # Compute object dimensions in real-world units (e.g., meters)\n",
    "    object_width = (object_width_in_pixels * distance_to_object) / focal_length\n",
    "    object_height = (object_height_in_pixels * distance_to_object) / focal_length\n",
    "    \n",
    "    return object_width, object_height\n",
    "\n",
    "\n"
   ]
  },
  {
   "cell_type": "code",
   "execution_count": 281,
   "id": "9230ef11",
   "metadata": {},
   "outputs": [],
   "source": [
    "def capture_image(camera_index=0):\n",
    "    cap = cv2.VideoCapture(camera_index)\n",
    "    ret, frame = cap.read()\n",
    "    cap.release()\n",
    "    return frame\n",
    "\n",
    "# Example usage\n"
   ]
  },
  {
   "cell_type": "code",
   "execution_count": 282,
   "id": "c3993a37",
   "metadata": {},
   "outputs": [],
   "source": [
    "import cv2\n",
    "import numpy as np\n",
    "\n",
    "def get_object_dimensions_from_image(image, threshold_method=cv2.ADAPTIVE_THRESH_GAUSSIAN_C, block_size=11, c=2):\n",
    "    # Convert the image to grayscale\n",
    "    gray = cv2.cvtColor(image, cv2.COLOR_BGR2GRAY)\n",
    "    \n",
    "    # Apply thresholding or other preprocessing as needed\n",
    "    thresh = cv2.adaptiveThreshold(gray, 255, threshold_method, cv2.THRESH_BINARY_INV, block_size, c)\n",
    "    \n",
    "    # Find contours\n",
    "    contours, _ = cv2.findContours(thresh, cv2.RETR_EXTERNAL, cv2.CHAIN_APPROX_SIMPLE)\n",
    "    \n",
    "    # Select the largest contour (assuming it corresponds to the object)\n",
    "    largest_contour = max(contours, key=cv2.contourArea)\n",
    "    \n",
    "    # Get the bounding rectangle of the contour\n",
    "    x, y, w, h = cv2.boundingRect(largest_contour)\n",
    "    \n",
    "    # Draw bounding box\n",
    "    cv2.rectangle(image, (x, y), (x + w, y + h), (0, 255, 0), 2)\n",
    "    \n",
    "    # Compute object dimensions in pixels\n",
    "    object_width_in_pixels = w\n",
    "    object_height_in_pixels = h\n",
    "    \n",
    "    return object_width_in_pixels, object_height_in_pixels, image\n"
   ]
  },
  {
   "cell_type": "code",
   "execution_count": null,
   "id": "a4da5628",
   "metadata": {},
   "outputs": [],
   "source": []
  },
  {
   "cell_type": "code",
   "execution_count": null,
   "id": "56a05d96",
   "metadata": {},
   "outputs": [],
   "source": []
  },
  {
   "cell_type": "code",
   "execution_count": 284,
   "id": "b234972e",
   "metadata": {},
   "outputs": [
    {
     "name": "stdout",
     "output_type": "stream",
     "text": [
      "Image dimensions (width x height) in pixels: 1080 x 1920\n",
      "Object dimensions (width x height) in pixels: 420 x 251\n",
      "Object dimensions (width x height): 78.4 mm x 46.85333333333333 mm\n"
     ]
    }
   ],
   "source": [
    "def main():\n",
    "    # Known parameters\n",
    "    distance_to_object = 280  # Distance from the camera to the object in millimeters\n",
    "    \n",
    "    # Capture an image\n",
    "    cap = cv2.VideoCapture(0)\n",
    "    ret, frame = cap.read()\n",
    "    cap.release()\n",
    "    \n",
    "    # Get image dimensions\n",
    "    image_height, image_width, _ = frame.shape\n",
    "    print(\"Image dimensions (width x height) in pixels:\", image_height, \"x\", image_width)\n",
    "\n",
    "    \n",
    "    object_width_in_pixels, object_height_in_pixels, image_with_box = get_object_dimensions_from_image(frame)\n",
    "    print(\"Object dimensions (width x height) in pixels:\", object_width_in_pixels, \"x\", object_height_in_pixels)\n",
    "\n",
    "\n",
    "    # Compute object dimensions\n",
    "    object_width, object_height = compute_object_dimensions(image_width, image_height, object_width_in_pixels, object_height_in_pixels, distance_to_object)\n",
    "    \n",
    "    \n",
    "    # Display the image with bounding box\n",
    "    cv2.imshow('Object with Bounding Box', image_with_box)\n",
    "    cv2.waitKey(50)\n",
    "    cv2.destroyAllWindows()\n",
    "    print(\"Object dimensions (width x height):\", object_width, \"mm x\", object_height, \"mm\")\n",
    "\n",
    "if __name__ == \"__main__\":\n",
    "    main()\n"
   ]
  },
  {
   "cell_type": "code",
   "execution_count": null,
   "id": "08310dab",
   "metadata": {},
   "outputs": [],
   "source": []
  },
  {
   "cell_type": "code",
   "execution_count": null,
   "id": "4854f518",
   "metadata": {},
   "outputs": [],
   "source": []
  },
  {
   "cell_type": "code",
   "execution_count": null,
   "id": "c43ecd78",
   "metadata": {},
   "outputs": [],
   "source": []
  },
  {
   "cell_type": "code",
   "execution_count": 301,
   "id": "d52cdc3b",
   "metadata": {},
   "outputs": [],
   "source": [
    "import cv2\n",
    "import numpy as np\n",
    "\n",
    "def calibrate_camera(image_paths, pattern_size):\n",
    "    # Prepare object points, like (0,0,0), (1,0,0), (2,0,0) ....,(6,5,0)\n",
    "    #objp = np.zeros((pattern_size[0] * pattern_size[1], 3), np.float32)\n",
    "    #objp[:, :2] = np.mgrid[0:pattern_size[0], 0:pattern_size[1]].T.reshape(-1, 2)\n",
    "    objp = np.zeros((chessboard_size[0] * chessboard_size[1], 3), np.float32)\n",
    "    objp[:, :2] = np.mgrid[0:chessboard_size[0], 0:chessboard_size[1]].T.reshape(-1, 2) * square_size_mm\n",
    "\n",
    "    # Arrays to store object points and image points from all the images.\n",
    "    object_points = []  # 3D points in real world space\n",
    "    image_points = []   # 2D points in image plane.\n",
    "\n",
    "    # Step through the list and search for chessboard corners\n",
    "    for path in image_paths:\n",
    "        img = cv2.imread(path)\n",
    "        gray = cv2.cvtColor(img, cv2.COLOR_BGR2GRAY)\n",
    "\n",
    "        # Find the chessboard corners\n",
    "        ret, corners = cv2.findChessboardCorners(gray, pattern_size, None)\n",
    "\n",
    "        # If found, add object points, image points\n",
    "        if ret:\n",
    "            object_points.append(objp)\n",
    "            image_points.append(corners)\n",
    "\n",
    "    # Calibrate the camera\n",
    "    ret, mtx, dist, rvecs, tvecs = cv2.calibrateCamera(object_points, image_points, gray.shape[::-1], None, None)\n",
    "\n",
    "    return ret, mtx, dist, rvecs, tvecs\n",
    "\n"
   ]
  },
  {
   "cell_type": "code",
   "execution_count": 316,
   "id": "3931648d",
   "metadata": {},
   "outputs": [
    {
     "ename": "error",
     "evalue": "OpenCV(4.9.0) :-1: error: (-5:Bad argument) in function 'getOptimalNewCameraMatrix'\n> Overload resolution failed:\n>  - Can't parse 'imageSize'. Expected sequence length 2, got 3\n>  - Can't parse 'imageSize'. Expected sequence length 2, got 3\n",
     "output_type": "error",
     "traceback": [
      "\u001b[0;31m---------------------------------------------------------------------------\u001b[0m",
      "\u001b[0;31merror\u001b[0m                                     Traceback (most recent call last)",
      "Cell \u001b[0;32mIn[316], line 7\u001b[0m\n\u001b[1;32m      4\u001b[0m img_shape \u001b[38;5;241m=\u001b[39m image\u001b[38;5;241m.\u001b[39mshape[::\u001b[38;5;241m-\u001b[39m\u001b[38;5;241m1\u001b[39m]\n\u001b[1;32m      6\u001b[0m     \u001b[38;5;66;03m# Compute the camera matrix and distortion coefficients\u001b[39;00m\n\u001b[0;32m----> 7\u001b[0m new_camera_mtx, roi \u001b[38;5;241m=\u001b[39m cv2\u001b[38;5;241m.\u001b[39mgetOptimalNewCameraMatrix(mtx, dist, img_shape, \u001b[38;5;241m1\u001b[39m)\n\u001b[1;32m      9\u001b[0m     \u001b[38;5;66;03m# Undistort the image\u001b[39;00m\n\u001b[1;32m     10\u001b[0m undistorted_img \u001b[38;5;241m=\u001b[39m cv2\u001b[38;5;241m.\u001b[39mundistort(image, mtx, dist, \u001b[38;5;28;01mNone\u001b[39;00m, new_camera_mtx)\n",
      "\u001b[0;31merror\u001b[0m: OpenCV(4.9.0) :-1: error: (-5:Bad argument) in function 'getOptimalNewCameraMatrix'\n> Overload resolution failed:\n>  - Can't parse 'imageSize'. Expected sequence length 2, got 3\n>  - Can't parse 'imageSize'. Expected sequence length 2, got 3\n"
     ]
    }
   ],
   "source": [
    "\n",
    "ret, mtx, dist, rvecs, tvecs = cv2.calibrateCamera(obj_points, img_points, gray.shape[::-1], None, None)\n",
    "\n",
    "    # Get image size\n",
    "img_shape = image.shape[::-1]\n",
    "\n",
    "    # Compute the camera matrix and distortion coefficients\n",
    "new_camera_mtx, roi = cv2.getOptimalNewCameraMatrix(mtx, dist, img_shape, 1)\n",
    "\n",
    "    # Undistort the image\n",
    "undistorted_img = cv2.undistort(image, mtx, dist, None, new_camera_mtx)\n",
    "\n",
    "    # Convert image to grayscale\n",
    "gray = cv2.cvtColor(undistorted_img, cv2.COLOR_BGR2GRAY)\n",
    "\n",
    "    # Find chessboard corners\n",
    "ret, corners = cv2.findChessboardCorners(gray, img_points, None)\n",
    "\n",
    "    # If found, refine the corners\n",
    "if ret:\n",
    "    corners_refined = cv2.cornerSubPix(gray, corners, (11, 11), (-1, -1), (cv2.TERM_CRITERIA_EPS + cv2.TERM_CRITERIA_MAX_ITER, 30, 0.001))\n",
    "\n",
    "        # Compute the extrinsic matrix\n",
    "    _, rvecs, tvecs = cv2.solvePnP(obj_size, corners_refined, mtx, dist)\n",
    "    r_mat, _ = cv2.Rodrigues(rvecs)\n",
    "        \n",
    "     # Calculate the object dimensions\n",
    "    _, _, object_dims, _ = cv2.decomposeProjectionMatrix(np.hstack((r_mat, tvecs)))\n",
    "    object_width = object_dims[0]\n",
    "    object_height = object_dims[1]\n",
    "\n",
    "\n"
   ]
  },
  {
   "cell_type": "code",
   "execution_count": 305,
   "id": "edce48a5",
   "metadata": {},
   "outputs": [
    {
     "ename": "UnboundLocalError",
     "evalue": "cannot access local variable 'gray' where it is not associated with a value",
     "output_type": "error",
     "traceback": [
      "\u001b[0;31m---------------------------------------------------------------------------\u001b[0m",
      "\u001b[0;31mUnboundLocalError\u001b[0m                         Traceback (most recent call last)",
      "Cell \u001b[0;32mIn[305], line 13\u001b[0m\n\u001b[1;32m     11\u001b[0m \u001b[38;5;28;01mfor\u001b[39;00m path \u001b[38;5;129;01min\u001b[39;00m image_paths:\n\u001b[1;32m     12\u001b[0m     img \u001b[38;5;241m=\u001b[39m cv2\u001b[38;5;241m.\u001b[39mimread(path)\n\u001b[0;32m---> 13\u001b[0m     width, height \u001b[38;5;241m=\u001b[39m calculate_dimensions(img, obj_size, pattern_size,\u001b[38;5;241m0.027\u001b[39m)\n\u001b[1;32m     14\u001b[0m     \u001b[38;5;28mprint\u001b[39m(\u001b[38;5;124mf\u001b[39m\u001b[38;5;124m\"\u001b[39m\u001b[38;5;124mDimensions of the object in \u001b[39m\u001b[38;5;132;01m{\u001b[39;00mpath\u001b[38;5;132;01m}\u001b[39;00m\u001b[38;5;124m: Width = \u001b[39m\u001b[38;5;132;01m{\u001b[39;00mwidth\u001b[38;5;132;01m}\u001b[39;00m\u001b[38;5;124m meters, Height = \u001b[39m\u001b[38;5;132;01m{\u001b[39;00mheight\u001b[38;5;132;01m}\u001b[39;00m\u001b[38;5;124m meters\u001b[39m\u001b[38;5;124m\"\u001b[39m)\n",
      "Cell \u001b[0;32mIn[304], line 3\u001b[0m, in \u001b[0;36mcalculate_dimensions\u001b[0;34m(image, obj_points, img_points, obj_size)\u001b[0m\n\u001b[1;32m      1\u001b[0m \u001b[38;5;28;01mdef\u001b[39;00m \u001b[38;5;21mcalculate_dimensions\u001b[39m(image, obj_points, img_points, obj_size):\n\u001b[1;32m      2\u001b[0m     \u001b[38;5;66;03m# Calibrate the camera\u001b[39;00m\n\u001b[0;32m----> 3\u001b[0m     ret, mtx, dist, rvecs, tvecs \u001b[38;5;241m=\u001b[39m cv2\u001b[38;5;241m.\u001b[39mcalibrateCamera(obj_points, img_points, gray\u001b[38;5;241m.\u001b[39mshape[::\u001b[38;5;241m-\u001b[39m\u001b[38;5;241m1\u001b[39m], \u001b[38;5;28;01mNone\u001b[39;00m, \u001b[38;5;28;01mNone\u001b[39;00m)\n\u001b[1;32m      5\u001b[0m     \u001b[38;5;66;03m# Get image size\u001b[39;00m\n\u001b[1;32m      6\u001b[0m     img_shape \u001b[38;5;241m=\u001b[39m image\u001b[38;5;241m.\u001b[39mshape[::\u001b[38;5;241m-\u001b[39m\u001b[38;5;241m1\u001b[39m]\n",
      "\u001b[0;31mUnboundLocalError\u001b[0m: cannot access local variable 'gray' where it is not associated with a value"
     ]
    }
   ],
   "source": [
    "# Example usage\n",
    "if __name__ == \"__main__\":\n",
    "    # Example object dimensions (in meters)\n",
    "\n",
    "    # Example image paths and chessboard pattern size\n",
    "    image_paths = calibration_images  # List of image paths\n",
    "    pattern_size = (7, 5)  # Chessboard pattern size\n",
    "\n",
    "    # Load the images and calculate object dimensions\n",
    "    for path in image_paths:\n",
    "        img = cv2.imread(path)\n",
    "        width, height = calculate_dimensions(img, obj_size, pattern_size,0.027)\n",
    "        print(f\"Dimensions of the object in {path}: Width = {width} meters, Height = {height} meters\")\n"
   ]
  },
  {
   "cell_type": "code",
   "execution_count": null,
   "id": "56b8202b",
   "metadata": {},
   "outputs": [],
   "source": []
  },
  {
   "cell_type": "code",
   "execution_count": 99,
   "id": "9ab57737",
   "metadata": {},
   "outputs": [
    {
     "name": "stdout",
     "output_type": "stream",
     "text": [
      "<class 'numpy.ndarray'>\n"
     ]
    }
   ],
   "source": [
    "print(type(boardSize))"
   ]
  },
  {
   "cell_type": "code",
   "execution_count": 324,
   "id": "ac44bcea",
   "metadata": {},
   "outputs": [],
   "source": [
    "import numpy as np\n",
    "import cv2\n",
    "import glob\n",
    "\n",
    "# Termination criteria for the corner sub-pixel refinement process\n",
    "criteria = (cv2.TERM_CRITERIA_EPS + cv2.TERM_CRITERIA_MAX_ITER, 30, 0.001)\n",
    "\n",
    "# Prepare object points, like (0,0,0), (1,0,0), (2,0,0), ..., (6,5,0)\n",
    "# Adjust the following parameters according to your chessboard\n",
    "checkerboard_size = (7, 5)\n",
    "objp = np.zeros((checkerboard_size[0]*checkerboard_size[1], 3), np.float32)\n",
    "objp[:, :2] = np.mgrid[0:checkerboard_size[0], 0:checkerboard_size[1]].T.reshape(-1, 2)\n",
    "\n",
    "# Arrays to store object points and image points from all the images\n",
    "objpoints = []  # 3d points in real-world space\n",
    "imgpoints = []  # 2d points in image plane\n",
    "\n",
    "# List of calibration images\n",
    "images = glob.glob('captured_images/*.jpg')\n",
    "\n",
    "for fname in images:\n",
    "    img = cv2.imread(fname)\n",
    "    gray = cv2.cvtColor(img, cv2.COLOR_BGR2GRAY)\n",
    "\n",
    "    # Find the chessboard corners\n",
    "    ret, corners = cv2.findChessboardCorners(gray, checkerboard_size, None)\n",
    "\n",
    "    if ret:\n",
    "        objpoints.append(objp)\n",
    "        corners2 = cv2.cornerSubPix(gray, corners, (11, 11), (-1, -1), criteria)\n",
    "        imgpoints.append(corners2)\n",
    "\n",
    "        # Draw and display the corners\n",
    "        cv2.drawChessboardCorners(img, checkerboard_size, corners2, ret)\n",
    "        cv2.imshow('img', img)\n",
    "        cv2.waitKey(500)\n",
    "\n",
    "cv2.destroyAllWindows()\n",
    "\n",
    "# Camera calibration\n",
    "ret, mtx, dist, rvecs, tvecs = cv2.calibrateCamera(objpoints, imgpoints, gray.shape[::-1], None, None)"
   ]
  },
  {
   "cell_type": "code",
   "execution_count": 342,
   "id": "bb6374dd",
   "metadata": {},
   "outputs": [],
   "source": [
    "import cv2\n",
    "import numpy as np\n",
    "\n",
    "# Load the chessboard image\n",
    "img = cv2.imread('captured_images/image_2.jpg')\n",
    "gray = cv2.cvtColor(img, cv2.COLOR_BGR2GRAY)\n",
    "\n",
    "# Define the chessboard size\n",
    "chessboard_size = (7, 7)\n",
    "\n",
    "# Find the chessboard corners\n",
    "ret, corners = cv2.findChessboardCorners(gray, chessboard_size, None)\n",
    "\n",
    "# If found, refine the corner positions\n",
    "if ret:\n",
    "    corners2 = cv2.cornerSubPix(gray, corners, (11, 11), (-1, -1), (cv2.TERM_CRITERIA_EPS + cv2.TERM_CRITERIA_MAX_ITER, 30, 0.001))\n",
    "    \n",
    "    # Draw and display the corners\n",
    "    cv2.drawChessboardCorners(img, chessboard_size, corners2, ret)\n",
    "    cv2.imshow('Corners', img)\n",
    "    cv2.waitKey(0)\n",
    "    cv2.destroyAllWindows()"
   ]
  },
  {
   "cell_type": "code",
   "execution_count": 343,
   "id": "7f72d2da",
   "metadata": {},
   "outputs": [],
   "source": [
    "# Assuming corners2 is sorted row-wise, we select the four outer corners\n",
    "p1 = corners2[0].ravel()  # Top-left corner in the image\n",
    "p2 = corners2[6].ravel()  # Top-right corner in the image\n",
    "p3 = corners2[-1].ravel()  # Bottom-right corner in the image\n",
    "p4 = corners2[-7].ravel()  # Bottom-left corner in the image\n",
    "\n",
    "# 2D image points\n",
    "img_points = np.array([p1, p2, p3, p4])\n",
    "\n",
    "# 3D real-world points\n",
    "obj_points = np.array([[0, 0, 0], [120, 0, 0], [120, 120, 0], [0, 120, 0]], dtype='float32')"
   ]
  },
  {
   "cell_type": "code",
   "execution_count": 344,
   "id": "10591d88",
   "metadata": {},
   "outputs": [],
   "source": [
    "ret, rvecs, tvecs = cv2.solvePnP(obj_points, img_points, mtx, dist)\n",
    "\n",
    "# Convert rotation vectors to rotation matrix\n",
    "R_mtx, jac = cv2.Rodrigues(rvecs)\n",
    "\n",
    "# Now, R_mtx is the rotation matrix and tvecs is the translation vector"
   ]
  },
  {
   "cell_type": "code",
   "execution_count": 347,
   "id": "088123b7",
   "metadata": {},
   "outputs": [
    {
     "data": {
      "text/plain": [
       "array([[ 0.99900082, -0.04141265,  0.01680367],\n",
       "       [ 0.01733315,  0.70557862,  0.70841963],\n",
       "       [-0.04119384, -0.70742053,  0.70559143]])"
      ]
     },
     "execution_count": 347,
     "metadata": {},
     "output_type": "execute_result"
    }
   ],
   "source": [
    "R_mtx"
   ]
  },
  {
   "cell_type": "code",
   "execution_count": 345,
   "id": "52d85100",
   "metadata": {},
   "outputs": [],
   "source": [
    "import math\n",
    "\n",
    "def rotation_matrix_to_euler_angles(R):\n",
    "    sy = math.sqrt(R[0, 0] * R[0, 0] + R[1, 0] * R[1, 0])\n",
    "\n",
    "    singular = sy < 1e-6\n",
    "\n",
    "    if not singular:\n",
    "        x = math.atan2(R[2, 1], R[2, 2])\n",
    "        y = math.atan2(-R[2, 0], sy)\n",
    "        z = math.atan2(R[1, 0], R[0, 0])\n",
    "    else:\n",
    "        x = math.atan2(-R[1, 2], R[1, 1])\n",
    "        y = math.atan2(-R[2, 0], sy)\n",
    "        z = 0\n",
    "\n",
    "    return np.array([x, y, z])\n",
    "\n",
    "# Assuming R_mtx is the rotation matrix obtained earlier\n",
    "euler_angles = rotation_matrix_to_euler_angles(R_mtx)"
   ]
  },
  {
   "cell_type": "code",
   "execution_count": 346,
   "id": "983b4785",
   "metadata": {},
   "outputs": [
    {
     "data": {
      "text/plain": [
       "array([-0.78669263,  0.0412055 ,  0.01734875])"
      ]
     },
     "execution_count": 346,
     "metadata": {},
     "output_type": "execute_result"
    }
   ],
   "source": [
    "euler_angles"
   ]
  },
  {
   "cell_type": "code",
   "execution_count": null,
   "id": "c45447c0",
   "metadata": {},
   "outputs": [],
   "source": []
  },
  {
   "cell_type": "code",
   "execution_count": 325,
   "id": "e91aaa8a",
   "metadata": {},
   "outputs": [
    {
     "data": {
      "text/plain": [
       "array([[2.02100114e+03, 0.00000000e+00, 9.28608282e+02],\n",
       "       [0.00000000e+00, 2.04959675e+03, 4.87634022e+02],\n",
       "       [0.00000000e+00, 0.00000000e+00, 1.00000000e+00]])"
      ]
     },
     "execution_count": 325,
     "metadata": {},
     "output_type": "execute_result"
    }
   ],
   "source": [
    "mtx"
   ]
  },
  {
   "cell_type": "code",
   "execution_count": 326,
   "id": "06ec646a",
   "metadata": {},
   "outputs": [],
   "source": [
    "def measure_object_dimension(frame, mtx, dist):\n",
    "    # Convert to grayscale\n",
    "    gray = cv2.cvtColor(frame, cv2.COLOR_BGR2GRAY)\n",
    "    \n",
    "    # Blur the image to reduce noise\n",
    "    blur = cv2.GaussianBlur(gray, (5, 5), 0)\n",
    "    \n",
    "    # Edge detection\n",
    "    edged = cv2.Canny(blur, 35, 125)\n",
    "    \n",
    "    # Find contours\n",
    "    contours, _ = cv2.findContours(edged.copy(), cv2.RETR_LIST, cv2.CHAIN_APPROX_SIMPLE)\n",
    "    \n",
    "    # Sort contours based on their area, keeping only the largest\n",
    "    contours = sorted(contours, key=cv2.contourArea, reverse=True)[:1]\n",
    "    \n",
    "    for c in contours:\n",
    "        # Approximate the contour\n",
    "        peri = cv2.arcLength(c, True)\n",
    "        approx = cv2.approxPolyDP(c, 0.02 * peri, True)\n",
    "        \n",
    "        # If the approximated contour has four points, assume it's a rectangle (or similar)\n",
    "        if len(approx) == 4:\n",
    "            # Draw the contour\n",
    "            cv2.drawContours(frame, [approx], -1, (0, 255, 0), 2)\n",
    "            \n",
    "            # Compute the bounding box of the contour and use it to compute the object dimensions\n",
    "            (x, y, w, h) = cv2.boundingRect(approx)\n",
    "            width = w  # Placeholder for actual dimension calculation\n",
    "            height = h  # Placeholder for actual dimension calculation\n",
    "            \n",
    "            # Display the dimensions on the image\n",
    "            cv2.putText(frame, f\"Width: {width} pixels\", (x, y - 20), cv2.FONT_HERSHEY_SIMPLEX, 0.5, (255, 255, 255), 2)\n",
    "            cv2.putText(frame, f\"Height: {height} pixels\", (x, y - 5), cv2.FONT_HERSHEY_SIMPLEX, 0.5, (255, 255, 255), 2)"
   ]
  },
  {
   "cell_type": "code",
   "execution_count": 337,
   "id": "9e5ef393",
   "metadata": {},
   "outputs": [],
   "source": [
    "def measure_object_dimension(frame, mtx, dist, distance_to_object):\n",
    "    # Convert to grayscale\n",
    "    gray = cv2.cvtColor(frame, cv2.COLOR_BGR2GRAY)\n",
    "    \n",
    "    # Blur the image to reduce noise\n",
    "    blur = cv2.GaussianBlur(gray, (5, 5), 0)\n",
    "    \n",
    "    # Edge detection\n",
    "    edged = cv2.Canny(blur, 35, 125)\n",
    "    \n",
    "    # Find contours\n",
    "    contours, _ = cv2.findContours(edged.copy(), cv2.RETR_LIST, cv2.CHAIN_APPROX_SIMPLE)\n",
    "    \n",
    "    # Sort contours based on their area, keeping only the largest\n",
    "    contours = sorted(contours, key=cv2.contourArea, reverse=True)[:1]\n",
    "    \n",
    "\n",
    "    for c in contours:\n",
    "        # Approximate the contour\n",
    "        peri = cv2.arcLength(c, True)\n",
    "        approx = cv2.approxPolyDP(c, 0.02 * peri, True)\n",
    "        \n",
    "        # If the approximated contour has four points, assume it's a rectangle (or similar)\n",
    "        if len(approx) == 4:\n",
    "            # Draw the contour\n",
    "            cv2.drawContours(frame, [approx], -1, (0, 255, 0), 2)\n",
    "            \n",
    "            # Compute the bounding box of the contour and use it to compute the object dimensions\n",
    "            (x, y, w, h) = cv2.boundingRect(approx)\n",
    "            width_pixels = w  # Placeholder for actual dimension calculation\n",
    "            height_pixels = h  # Placeholder for actual dimension calculation\n",
    "\n",
    "        # Calculate real-world dimensions\n",
    "            width_mm = (width_pixels * distance_to_object) / mtx[0, 0]  # Using f_x from the camera matrix\n",
    "            height_mm = (height_pixels * distance_to_object) / mtx[1, 1]  # Using f_y from the camera matrix\n",
    "\n",
    "            # Display the dimensions on the image\n",
    "            cv2.putText(frame, f\"Width: {width_mm:.2f} mm\", (x, y - 20), cv2.FONT_HERSHEY_SIMPLEX, 0.5, (255, 255, 255), 2)\n",
    "            cv2.putText(frame, f\"Height: {height_mm:.2f} mm\", (x, y - 5), cv2.FONT_HERSHEY_SIMPLEX, 0.5, (255, 255, 255), 2)"
   ]
  },
  {
   "cell_type": "code",
   "execution_count": 341,
   "id": "85d3a7bd",
   "metadata": {},
   "outputs": [
    {
     "ename": "KeyboardInterrupt",
     "evalue": "",
     "output_type": "error",
     "traceback": [
      "\u001b[0;31m---------------------------------------------------------------------------\u001b[0m",
      "\u001b[0;31mKeyboardInterrupt\u001b[0m                         Traceback (most recent call last)",
      "Cell \u001b[0;32mIn[341], line 27\u001b[0m\n\u001b[1;32m     24\u001b[0m measure_object_dimension(frame, mtx, dist,\u001b[38;5;241m350\u001b[39m)\n\u001b[1;32m     26\u001b[0m     \u001b[38;5;66;03m# Display the resulting frame\u001b[39;00m\n\u001b[0;32m---> 27\u001b[0m cv2\u001b[38;5;241m.\u001b[39mimshow(\u001b[38;5;124m'\u001b[39m\u001b[38;5;124mframe\u001b[39m\u001b[38;5;124m'\u001b[39m, frame)\n\u001b[1;32m     29\u001b[0m     \u001b[38;5;66;03m# Break the loop if 'q' is pressed\u001b[39;00m\n\u001b[1;32m     30\u001b[0m \u001b[38;5;28;01mif\u001b[39;00m cv2\u001b[38;5;241m.\u001b[39mwaitKey(\u001b[38;5;241m1\u001b[39m) \u001b[38;5;241m==\u001b[39m \u001b[38;5;28mord\u001b[39m(\u001b[38;5;124m'\u001b[39m\u001b[38;5;124mq\u001b[39m\u001b[38;5;124m'\u001b[39m):\n",
      "\u001b[0;31mKeyboardInterrupt\u001b[0m: "
     ]
    }
   ],
   "source": [
    "import cv2\n",
    "\n",
    "\n",
    "    \n",
    "\n",
    "    # Start video capture\n",
    "cap = cv2.VideoCapture(0)\n",
    "\n",
    "if not cap.isOpened():\n",
    "    print(\"Cannot open camera\")\n",
    "    exit()\n",
    "\n",
    "while True:\n",
    "    \n",
    "        # Capture frame-by-frame\n",
    "    ret, frame = cap.read()\n",
    "\n",
    "        # If frame is read correctly, ret is True\n",
    "    if not ret:\n",
    "        print(\"Can't receive frame (stream end?). Exiting ...\")\n",
    "        break\n",
    "\n",
    "        # Call the object measurement function on the current frame\n",
    "    measure_object_dimension(frame, mtx, dist,350)\n",
    "\n",
    "        # Display the resulting frame\n",
    "    cv2.imshow('frame', frame)\n",
    "\n",
    "        # Break the loop if 'q' is pressed\n",
    "    if cv2.waitKey(1) == ord('q'):\n",
    "        break\n",
    "\n",
    "    # When everything done, release the capture\n",
    "cap.release()\n",
    "cv2.destroyAllWindows()\n",
    "\n"
   ]
  },
  {
   "cell_type": "code",
   "execution_count": null,
   "id": "817fa994",
   "metadata": {},
   "outputs": [],
   "source": []
  }
 ],
 "metadata": {
  "kernelspec": {
   "display_name": "Python 3 (ipykernel)",
   "language": "python",
   "name": "python3"
  },
  "language_info": {
   "codemirror_mode": {
    "name": "ipython",
    "version": 3
   },
   "file_extension": ".py",
   "mimetype": "text/x-python",
   "name": "python",
   "nbconvert_exporter": "python",
   "pygments_lexer": "ipython3",
   "version": "3.11.5"
  }
 },
 "nbformat": 4,
 "nbformat_minor": 5
}
