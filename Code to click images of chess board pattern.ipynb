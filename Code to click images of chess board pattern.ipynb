{
 "cells": [
  {
   "cell_type": "code",
   "execution_count": 4,
   "id": "a184a1d5",
   "metadata": {},
   "outputs": [
    {
     "name": "stdout",
     "output_type": "stream",
     "text": [
      "Image 1 saved successfully.\n",
      "Image 2 saved successfully.\n",
      "Image 3 saved successfully.\n",
      "Image 4 saved successfully.\n",
      "Image 5 saved successfully.\n",
      "Image 6 saved successfully.\n",
      "Image 7 saved successfully.\n",
      "Image 8 saved successfully.\n",
      "Image 9 saved successfully.\n",
      "Image 10 saved successfully.\n",
      "Image 11 saved successfully.\n",
      "Image 12 saved successfully.\n",
      "Image 13 saved successfully.\n",
      "Image 14 saved successfully.\n",
      "Image 15 saved successfully.\n",
      "Image 16 saved successfully.\n",
      "Image 17 saved successfully.\n",
      "Image 18 saved successfully.\n",
      "Image 19 saved successfully.\n",
      "Image 20 saved successfully.\n"
     ]
    }
   ],
   "source": [
    "import cv2\n",
    "import os\n",
    "import time\n",
    "\n",
    "# Create a directory to save captured images\n",
    "output_dir = \"captured_images\"\n",
    "os.makedirs(output_dir, exist_ok=True)\n",
    "\n",
    "# Open a connection to the camera (0 is usually the default camera)\n",
    "cap = cv2.VideoCapture(0)\n",
    "\n",
    "# Check if the camera opened successfully\n",
    "if not cap.isOpened():\n",
    "    print(\"Error: Failed to open camera.\")\n",
    "    exit()\n",
    "\n",
    "# Number of images to capture\n",
    "num_images = 20\n",
    "\n",
    "# Capture images from different angles\n",
    "for i in range(num_images):\n",
    "    # Adjust camera angle (for demonstration purposes)\n",
    "    angle = i * 18  # Increment angle by 18 degrees for each image\n",
    "    cap.set(cv2.CAP_PROP_POS_MSEC, angle)  # Set camera position (if supported)\n",
    "    \n",
    "    # Capture a frame\n",
    "    ret, frame = cap.read()\n",
    "\n",
    "    # Check if the frame was captured successfully\n",
    "    if not ret:\n",
    "        print(f\"Error: Failed to capture image {i+1}.\")\n",
    "        continue\n",
    "\n",
    "    # Save the captured frame to disk\n",
    "    image_path = os.path.join(output_dir, f\"image_{i+1}.jpg\")\n",
    "    cv2.imwrite(image_path, frame)\n",
    "    print(f\"Image {i+1} saved successfully.\")\n",
    "    time.sleep(5)\n",
    "\n",
    "# Release the camera\n",
    "cap.release()\n"
   ]
  },
  {
   "cell_type": "code",
   "execution_count": null,
   "id": "2979c597",
   "metadata": {},
   "outputs": [
    {
     "name": "stdout",
     "output_type": "stream",
     "text": [
      "Image with object.jpg\n"
     ]
    }
   ],
   "source": [
    "import cv2\n",
    "\n",
    "def main():\n",
    "    # Open a connection to the camera (0 is usually the built-in webcam)\n",
    "    cap = cv2.VideoCapture(0)\n",
    "\n",
    "    # Check if the camera opened successfully\n",
    "    if not cap.isOpened():\n",
    "        print(\"Error: Failed to open camera.\")\n",
    "        return\n",
    "\n",
    "    # Capture a single frame from the camera\n",
    "    ret, frame = cap.read()\n",
    "\n",
    "    # Check if the frame was captured successfully\n",
    "    if not ret:\n",
    "        print(\"Error: Failed to capture frame.\")\n",
    "        cap.release()  # Release the camera\n",
    "        return\n",
    "\n",
    "    # Display the captured image\n",
    "    cv2.imshow('Captured Image', frame)\n",
    "    \n",
    "    # Save the captured image to a file\n",
    "    cv2.imwrite('captured_image.jpg', frame)\n",
    "    print(\"Image with object.jpg\")\n",
    "\n",
    "    # Wait for any key press and then close the window\n",
    "    cv2.waitKey(5)\n",
    "    cv2.destroyAllWindows()\n",
    "\n",
    "    # Release the camera\n",
    "    cap.release()\n",
    "\n",
    "if __name__ == \"__main__\":\n",
    "    main()\n"
   ]
  },
  {
   "cell_type": "code",
   "execution_count": null,
   "id": "7de86957",
   "metadata": {},
   "outputs": [],
   "source": []
  }
 ],
 "metadata": {
  "kernelspec": {
   "display_name": "Python 3 (ipykernel)",
   "language": "python",
   "name": "python3"
  },
  "language_info": {
   "codemirror_mode": {
    "name": "ipython",
    "version": 3
   },
   "file_extension": ".py",
   "mimetype": "text/x-python",
   "name": "python",
   "nbconvert_exporter": "python",
   "pygments_lexer": "ipython3",
   "version": "3.11.5"
  }
 },
 "nbformat": 4,
 "nbformat_minor": 5
}
